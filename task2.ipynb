{
 "cells": [
  {
   "cell_type": "code",
   "execution_count": 7,
   "id": "a6a52d70",
   "metadata": {},
   "outputs": [],
   "source": [
    "import pandas as pd\n",
    "import numpy as np\n",
    "import ast\n",
    "import torch\n",
    "from torch.utils.data import Dataset, DataLoader\n",
    "import torch.nn as nn"
   ]
  },
  {
   "cell_type": "code",
   "execution_count": 8,
   "id": "2bfee1cf",
   "metadata": {},
   "outputs": [],
   "source": [
    "df = pd.read_csv('midi_df/midi_df_v2.csv')\n",
    "df = df[(df[\"duration\"] >= 120) & (df[\"duration\"] <= 300)]"
   ]
  },
  {
   "cell_type": "code",
   "execution_count": 9,
   "id": "a3d3aa46",
   "metadata": {},
   "outputs": [],
   "source": [
    "df[\"token_sequence\"] = df[\"token_sequence\"].apply(ast.literal_eval)\n",
    "df = df[df[\"token_sequence\"].apply(len) > 100]\n",
    "\n",
    "context_length = 64\n",
    "target_length = 64\n",
    "\n",
    "inputs, targets = [], []\n",
    "\n",
    "for seq in df[\"token_sequence\"]:\n",
    "    for i in range(context_length, len(seq) - target_length, target_length):\n",
    "        input_seq = seq[i - context_length:i]\n",
    "        target_seq = seq[i:i + target_length]\n",
    "        inputs.append(input_seq)\n",
    "        targets.append(target_seq)"
   ]
  },
  {
   "cell_type": "code",
   "execution_count": 10,
   "id": "de0c3823",
   "metadata": {},
   "outputs": [],
   "source": [
    "class MusicDataset(Dataset):\n",
    "    def __init__(self, inputs, targets):\n",
    "        self.inputs = [torch.tensor(seq, dtype=torch.long) for seq in inputs]\n",
    "        self.targets = [torch.tensor(seq, dtype=torch.long) for seq in targets]\n",
    "\n",
    "    def __len__(self):\n",
    "        return len(self.inputs)\n",
    "\n",
    "    def __getitem__(self, idx):\n",
    "        return self.inputs[idx], self.targets[idx]\n",
    "\n",
    "dataset = MusicDataset(inputs, targets)\n",
    "dataloader = DataLoader(dataset, batch_size=32, shuffle=True)"
   ]
  },
  {
   "cell_type": "code",
   "execution_count": 11,
   "id": "dd47034b",
   "metadata": {},
   "outputs": [],
   "source": [
    "class MusicTransformer(nn.Module):\n",
    "    def __init__(self, vocab_size, d_model=128, nhead=4, num_layers=4):\n",
    "        super().__init__()\n",
    "        self.embedding = nn.Embedding(vocab_size, d_model)\n",
    "        self.pos_encoder = nn.Parameter(torch.randn(1, 512, d_model))\n",
    "        encoder_layer = nn.TransformerEncoderLayer(d_model=d_model, nhead=nhead)\n",
    "        self.transformer = nn.TransformerEncoder(encoder_layer, num_layers=num_layers)\n",
    "        self.decoder = nn.Linear(d_model, vocab_size)\n",
    "\n",
    "    def forward(self, src):\n",
    "        x = self.embedding(src) + self.pos_encoder[:, :src.size(1)]\n",
    "        x = self.transformer(x)\n",
    "        return self.decoder(x)\n"
   ]
  },
  {
   "cell_type": "code",
   "execution_count": 12,
   "id": "9162f422",
   "metadata": {},
   "outputs": [
    {
     "name": "stderr",
     "output_type": "stream",
     "text": [
      "C:\\Users\\andyy\\AppData\\Local\\Packages\\PythonSoftwareFoundation.Python.3.11_qbz5n2kfra8p0\\LocalCache\\local-packages\\Python311\\site-packages\\torch\\nn\\modules\\transformer.py:382: UserWarning: enable_nested_tensor is True, but self.use_nested_tensor is False because encoder_layer.self_attn.batch_first was not True(use batch_first for better inference performance)\n",
      "  warnings.warn(\n"
     ]
    },
    {
     "name": "stdout",
     "output_type": "stream",
     "text": [
      "Epoch 1: Loss 3834.5388\n",
      "Epoch 2: Loss 3818.6560\n",
      "Epoch 3: Loss 3816.2587\n",
      "Epoch 4: Loss 3810.7306\n",
      "Epoch 5: Loss 3792.7541\n"
     ]
    }
   ],
   "source": [
    "vocab_size = max(max(seq) for seq in df[\"token_sequence\"]) + 1\n",
    "model = MusicTransformer(vocab_size)\n",
    "criterion = nn.CrossEntropyLoss()\n",
    "optimizer = torch.optim.Adam(model.parameters(), lr=1e-3)\n",
    "\n",
    "device = torch.device(\"cuda\" if torch.cuda.is_available() else \"cpu\")\n",
    "model.to(device)\n",
    "\n",
    "for epoch in range(5):\n",
    "    model.train()\n",
    "    total_loss = 0\n",
    "    for x, y in dataloader:\n",
    "        x, y = x.to(device), y.to(device)\n",
    "        output = model(x)\n",
    "        loss = criterion(output.view(-1, vocab_size), y.view(-1))\n",
    "        loss.backward()\n",
    "        optimizer.step()\n",
    "        optimizer.zero_grad()\n",
    "        total_loss += loss.item()\n",
    "    print(f\"Epoch {epoch+1}: Loss {total_loss:.4f}\")\n"
   ]
  },
  {
   "cell_type": "code",
   "execution_count": 14,
   "id": "b3d60c83",
   "metadata": {},
   "outputs": [],
   "source": [
    "def generate(model, seed_seq, max_length=128):\n",
    "    model.eval()\n",
    "    generated = seed_seq[:]\n",
    "    for _ in range(max_length):\n",
    "        input_seq = torch.tensor([generated[-64:]], dtype=torch.long).to(device)\n",
    "        with torch.no_grad():\n",
    "            output = model(input_seq)\n",
    "        next_token = output[0, -1].argmax().item()\n",
    "        generated.append(next_token)\n",
    "    return generated\n"
   ]
  },
  {
   "cell_type": "code",
   "execution_count": null,
   "id": "6a810f7c",
   "metadata": {},
   "outputs": [],
   "source": []
  }
 ],
 "metadata": {
  "kernelspec": {
   "display_name": "Python 3",
   "language": "python",
   "name": "python3"
  },
  "language_info": {
   "codemirror_mode": {
    "name": "ipython",
    "version": 3
   },
   "file_extension": ".py",
   "mimetype": "text/x-python",
   "name": "python",
   "nbconvert_exporter": "python",
   "pygments_lexer": "ipython3",
   "version": "3.11.9"
  }
 },
 "nbformat": 4,
 "nbformat_minor": 5
}
