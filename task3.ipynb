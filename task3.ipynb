{
 "cells": [
  {
   "cell_type": "code",
   "execution_count": 1,
   "id": "4c10048f",
   "metadata": {},
   "outputs": [],
   "source": [
    "import os\n",
    "import glob\n",
    "import random\n",
    "import torch\n",
    "import torchaudio\n",
    "from torch.utils.data import Dataset, DataLoader\n",
    "import torch.nn as nn\n",
    "import pretty_midi\n",
    "import numpy as np"
   ]
  },
  {
   "cell_type": "code",
   "execution_count": 2,
   "id": "f05a0ef8",
   "metadata": {},
   "outputs": [],
   "source": [
    "SAMPLE_RATE = 16000\n",
    "CHUNK_SIZE = 16000  # 1 second of audio\n",
    "QUANTIZATION_CHANNELS = 4\n",
    "MIDI_DIR = \"./maestro-v3.0.0\"     # Maestro dataset root directory\n",
    "DATA_DIR = \"./midi_wav\"           # Directory to store WAV files\n",
    "MAX_MIDI_FILES = 10               # Only convert this many MIDI files\n"
   ]
  },
  {
   "cell_type": "code",
   "execution_count": null,
   "id": "4bd60215",
   "metadata": {},
   "outputs": [],
   "source": [
    "def midi_to_wav(midi_path, wav_path):\n",
    "    midi = pretty_midi.PrettyMIDI(midi_path)\n",
    "    audio = midi.fluidsynth(sf2_path=\"soundfonts/FluidR3_GM/FluidR3_GM.sf2\", fs=SAMPLE_RATE)\n",
    "    audio_tensor = torch.tensor(audio, dtype=torch.float32).unsqueeze(0)  # [1, T]\n",
    "    torchaudio.save(wav_path, audio_tensor, SAMPLE_RATE)\n"
   ]
  },
  {
   "cell_type": "code",
   "execution_count": 4,
   "id": "b5cec1d8",
   "metadata": {},
   "outputs": [],
   "source": [
    "def preprocess_wav(path):\n",
    "    waveform, sr = torchaudio.load(path)\n",
    "    if sr != SAMPLE_RATE:\n",
    "        resampler = torchaudio.transforms.Resample(sr, SAMPLE_RATE)\n",
    "        waveform = resampler(waveform)\n",
    "    waveform = waveform.mean(dim=0, keepdim=True)  # mono\n",
    "    mu_law = torchaudio.transforms.MuLawEncoding(quantization_channels=QUANTIZATION_CHANNELS)\n",
    "    encoded = mu_law(waveform)  # [1, T]\n",
    "    return encoded.squeeze(0)  # [T]"
   ]
  },
  {
   "cell_type": "code",
   "execution_count": 5,
   "id": "1ecebfa7",
   "metadata": {},
   "outputs": [],
   "source": [
    "class AudioDataset(Dataset):\n",
    "    def __init__(self, file_paths):\n",
    "        self.samples = []\n",
    "        for path in file_paths:\n",
    "            encoded = preprocess_wav(path)\n",
    "            for i in range(0, len(encoded) - CHUNK_SIZE):\n",
    "                chunk = encoded[i:i+CHUNK_SIZE+1]  # +1 for target\n",
    "                self.samples.append(chunk)\n",
    "\n",
    "    def __len__(self):\n",
    "        return len(self.samples)\n",
    "\n",
    "    def __getitem__(self, idx):\n",
    "        chunk = self.samples[idx]\n",
    "        return chunk[:-1], chunk[1:]  # input, target"
   ]
  },
  {
   "cell_type": "code",
   "execution_count": 6,
   "id": "a26b7d41",
   "metadata": {},
   "outputs": [],
   "source": [
    "class SimpleWaveNet(nn.Module):\n",
    "    def __init__(self, n_channels=QUANTIZATION_CHANNELS, residual_channels=32, layers=5):\n",
    "        super().__init__()\n",
    "        self.embedding = nn.Embedding(n_channels, residual_channels)\n",
    "        self.dilated_layers = nn.ModuleList([\n",
    "            nn.Conv1d(residual_channels, residual_channels, kernel_size=2, dilation=2**i)\n",
    "            for i in range(layers)\n",
    "        ])\n",
    "        self.output = nn.Sequential(\n",
    "            nn.ReLU(),\n",
    "            nn.Conv1d(residual_channels, residual_channels, 1),\n",
    "            nn.ReLU(),\n",
    "            nn.Conv1d(residual_channels, n_channels, 1)\n",
    "        )\n",
    "\n",
    "    def forward(self, x):\n",
    "        x = self.embedding(x).permute(0, 2, 1)  # [B, T] -> [B, C, T]\n",
    "        for layer in self.dilated_layers:\n",
    "            out = layer(x)\n",
    "            trim = x.size(-1) - out.size(-1)\n",
    "            if trim > 0:\n",
    "                x = x[:, :, :-trim]  # Trim input to match output\n",
    "            x = x + out  # Residual connection\n",
    "        return self.output(x).permute(0, 2, 1)  # [B, T, V]"
   ]
  },
  {
   "cell_type": "code",
   "execution_count": 7,
   "id": "9b3da7d7",
   "metadata": {},
   "outputs": [],
   "source": [
    "def train(model, dataloader, epochs=5):\n",
    "    device = torch.device(\"cuda\" if torch.cuda.is_available() else \"cpu\")\n",
    "    model.to(device)\n",
    "    optimizer = torch.optim.Adam(model.parameters(), lr=1e-3)\n",
    "    criterion = nn.CrossEntropyLoss()\n",
    "\n",
    "    for epoch in range(epochs):\n",
    "        total_loss = 0\n",
    "        model.train()\n",
    "        for x, y in dataloader:\n",
    "            x, y = x.to(device), y.to(device)\n",
    "            out = model(x)\n",
    "            loss = criterion(out.view(-1, QUANTIZATION_CHANNELS), y.view(-1))\n",
    "            optimizer.zero_grad()\n",
    "            loss.backward()\n",
    "            optimizer.step()\n",
    "            total_loss += loss.item()\n",
    "        print(f\"Epoch {epoch+1}, Loss: {total_loss/len(dataloader):.4f}\")\n"
   ]
  },
  {
   "cell_type": "code",
   "execution_count": 8,
   "id": "af4101c6",
   "metadata": {},
   "outputs": [],
   "source": [
    "def generate(model, seed_token=128, length=16000):\n",
    "    device = next(model.parameters()).device\n",
    "    model.eval()\n",
    "    generated = [seed_token]\n",
    "    with torch.no_grad():\n",
    "        for _ in range(length):\n",
    "            inp = torch.tensor(generated[-CHUNK_SIZE:], dtype=torch.long).unsqueeze(0).to(device)\n",
    "            out = model(inp)[:, -1, :]  # last timestep\n",
    "            probs = torch.softmax(out, dim=-1)\n",
    "            next_token = torch.multinomial(probs, num_samples=1).item()\n",
    "            generated.append(next_token)\n",
    "    return torch.tensor(generated[1:])  # remove seed"
   ]
  },
  {
   "cell_type": "code",
   "execution_count": null,
   "id": "e89ac096",
   "metadata": {},
   "outputs": [],
   "source": [
    "# Clear existing WAV files if the directory exists\n",
    "if os.path.exists(DATA_DIR):\n",
    "    for file in os.listdir(DATA_DIR):\n",
    "        file_path = os.path.join(DATA_DIR, file)\n",
    "        if os.path.isfile(file_path):\n",
    "            os.remove(file_path)\n",
    "else:\n",
    "    os.makedirs(DATA_DIR)\n",
    "midi_files = glob.glob(os.path.join(MIDI_DIR, \"**/*.mid*\"), recursive=True)\n",
    "random.shuffle(midi_files)\n",
    "midi_files = midi_files[:MAX_MIDI_FILES]  # randomly pick subset\n",
    "\n",
    "for midi_file in midi_files:\n",
    "    wav_name = os.path.splitext(os.path.basename(midi_file))[0] + \".wav\"\n",
    "    wav_path = os.path.join(DATA_DIR, wav_name)\n",
    "    midi_to_wav(midi_file, wav_path)\n",
    "\n",
    "wav_files = glob.glob(os.path.join(DATA_DIR, \"*.wav\"))\n",
    "dataset = AudioDataset(wav_files)\n",
    "dataloader = DataLoader(dataset, batch_size=8, shuffle=True)\n",
    "\n",
    "model = SimpleWaveNet()\n",
    "train(model, dataloader, epochs=5)\n",
    "\n",
    "samples = generate(model, seed_token=128, length=16000)\n",
    "decoder = torchaudio.transforms.MuLawDecoding(quantization_channels=QUANTIZATION_CHANNELS)\n",
    "wav = decoder(samples.unsqueeze(0).unsqueeze(0).float())\n",
    "torchaudio.save(\"generated.wav\", wav, SAMPLE_RATE)\n"
   ]
  },
  {
   "cell_type": "code",
   "execution_count": null,
   "id": "1f30e0c4",
   "metadata": {},
   "outputs": [],
   "source": []
  }
 ],
 "metadata": {
  "kernelspec": {
   "display_name": "Python 3",
   "language": "python",
   "name": "python3"
  },
  "language_info": {
   "codemirror_mode": {
    "name": "ipython",
    "version": 3
   },
   "file_extension": ".py",
   "mimetype": "text/x-python",
   "name": "python",
   "nbconvert_exporter": "python",
   "pygments_lexer": "ipython3",
   "version": "3.10.11"
  }
 },
 "nbformat": 4,
 "nbformat_minor": 5
}
