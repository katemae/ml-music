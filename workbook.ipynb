{
 "cells": [
  {
   "cell_type": "markdown",
   "id": "4c08ed86",
   "metadata": {},
   "source": [
    "<center>\n",
    "<h1>\n",
    "    <b> Assignment Two: </b> [insert cool title here]\n",
    "</h1>\n",
    "</center>\n",
    "\n",
    "<center>\n",
    "By Katelyn Abille, Daniel Hwang, Weihao Lin, and Andy Tran\n",
    "</center>\n"
   ]
  },
  {
   "cell_type": "code",
   "execution_count": null,
   "id": "3e33a7f7",
   "metadata": {},
   "outputs": [],
   "source": [
    "import numpy as np\n",
    "# insert more import statements here"
   ]
  },
  {
   "cell_type": "markdown",
   "id": "0394416e",
   "metadata": {},
   "source": [
    "## Task One"
   ]
  },
  {
   "cell_type": "code",
   "execution_count": null,
   "id": "ef953e18",
   "metadata": {},
   "outputs": [],
   "source": [
    "### yadayadayay"
   ]
  },
  {
   "cell_type": "markdown",
   "id": "d7547b14",
   "metadata": {},
   "source": [
    "## Task Two"
   ]
  },
  {
   "cell_type": "code",
   "execution_count": null,
   "id": "c8be8616",
   "metadata": {},
   "outputs": [],
   "source": [
    "### yadayadayay"
   ]
  }
 ],
 "metadata": {
  "kernelspec": {
   "display_name": "cse153",
   "language": "python",
   "name": "python3"
  },
  "language_info": {
   "codemirror_mode": {
    "name": "ipython",
    "version": 3
   },
   "file_extension": ".py",
   "mimetype": "text/x-python",
   "name": "python",
   "nbconvert_exporter": "python",
   "pygments_lexer": "ipython3",
   "version": "3.12.10"
  }
 },
 "nbformat": 4,
 "nbformat_minor": 5
}
