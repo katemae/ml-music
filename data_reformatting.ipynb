{
 "cells": [
  {
   "cell_type": "code",
   "execution_count": 2,
   "id": "d1082e61",
   "metadata": {},
   "outputs": [],
   "source": [
    "import os\n",
    "import json\n",
    "import pandas as pd\n",
    "import numpy as np\n",
    "import miditoolkit\n",
    "from miditoolkit import MidiFile\n",
    "\n",
    "from miditok import REMI, TokenizerConfig\n",
    "from symusic import Score\n",
    "from pathlib import Path\n",
    "from symusic import Score"
   ]
  },
  {
   "cell_type": "code",
   "execution_count": 3,
   "id": "f75d2721",
   "metadata": {},
   "outputs": [
    {
     "data": {
      "text/plain": [
       "['maestro-v3.0.0/2018/MIDI-Unprocessed_Chamber3_MID--AUDIO_10_R3_2018_wav--1.midi',\n",
       " 'maestro-v3.0.0/2008/MIDI-Unprocessed_03_R2_2008_01-03_ORIG_MID--AUDIO_03_R2_2008_wav--2.midi',\n",
       " 'maestro-v3.0.0/2017/MIDI-Unprocessed_066_PIANO066_MID--AUDIO-split_07-07-17_Piano-e_3-02_wav--3.midi',\n",
       " 'maestro-v3.0.0/2004/MIDI-Unprocessed_XP_21_R1_2004_01_ORIG_MID--AUDIO_21_R1_2004_01_Track01_wav.midi',\n",
       " 'maestro-v3.0.0/2006/MIDI-Unprocessed_17_R1_2006_01-06_ORIG_MID--AUDIO_17_R1_2006_04_Track04_wav.midi',\n",
       " 'maestro-v3.0.0/2009/MIDI-Unprocessed_07_R1_2009_04-05_ORIG_MID--AUDIO_07_R1_2009_07_R1_2009_04_WAV.midi',\n",
       " 'maestro-v3.0.0/2009/MIDI-Unprocessed_11_R1_2009_06-09_ORIG_MID--AUDIO_11_R1_2009_11_R1_2009_07_WAV.midi',\n",
       " 'maestro-v3.0.0/2013/ORIG-MIDI_03_7_8_13_Group__MID--AUDIO_19_R2_2013_wav--3.midi',\n",
       " 'maestro-v3.0.0/2009/MIDI-Unprocessed_02_R1_2009_03-06_ORIG_MID--AUDIO_02_R1_2009_02_R1_2009_04_WAV.midi',\n",
       " 'maestro-v3.0.0/2009/MIDI-Unprocessed_02_R1_2009_03-06_ORIG_MID--AUDIO_02_R1_2009_02_R1_2009_05_WAV.midi']"
      ]
     },
     "execution_count": 3,
     "metadata": {},
     "output_type": "execute_result"
    }
   ],
   "source": [
    "df = pd.read_csv(\"midi_df.csv\")\n",
    "midi_files = df[\"midi_filename\"].apply(lambda x: \"maestro-v3.0.0/\" + x).to_list()\n",
    "midi_files[:10]"
   ]
  },
  {
   "cell_type": "code",
   "execution_count": 4,
   "id": "4ece865b",
   "metadata": {},
   "outputs": [],
   "source": [
    "config = TokenizerConfig(num_velocities=1, use_chords=False, use_programs=False)\n",
    "tokenizer = REMI(config)\n",
    "tokenizer.train(vocab_size=len(midi_files), files_paths=midi_files)"
   ]
  },
  {
   "cell_type": "code",
   "execution_count": null,
   "id": "55a67c1b",
   "metadata": {},
   "outputs": [],
   "source": [
    "token_seqs = []\n",
    "\n",
    "for abs_path in midi_files:\n",
    "    score = Score(abs_path)\n",
    "    tokens = tokenizer(score)\n",
    "    token_ids = tokens[0].ids if isinstance(tokens, list) else tokens.ids\n",
    "    token_seqs.append(token_ids)\n",
    "\n",
    "df[\"token_sequence\"] = token_seqs"
   ]
  },
  {
   "cell_type": "code",
   "execution_count": 8,
   "id": "49ace8c0",
   "metadata": {},
   "outputs": [
    {
     "data": {
      "text/html": [
       "<div>\n",
       "<style scoped>\n",
       "    .dataframe tbody tr th:only-of-type {\n",
       "        vertical-align: middle;\n",
       "    }\n",
       "\n",
       "    .dataframe tbody tr th {\n",
       "        vertical-align: top;\n",
       "    }\n",
       "\n",
       "    .dataframe thead th {\n",
       "        text-align: right;\n",
       "    }\n",
       "</style>\n",
       "<table border=\"1\" class=\"dataframe\">\n",
       "  <thead>\n",
       "    <tr style=\"text-align: right;\">\n",
       "      <th></th>\n",
       "      <th>Unnamed: 0</th>\n",
       "      <th>canonical_composer</th>\n",
       "      <th>canonical_title</th>\n",
       "      <th>split</th>\n",
       "      <th>year</th>\n",
       "      <th>midi_filename</th>\n",
       "      <th>duration</th>\n",
       "      <th>filename</th>\n",
       "      <th>duration_ticks</th>\n",
       "      <th>tempo_bpm</th>\n",
       "      <th>num_notes</th>\n",
       "      <th>avg_pitch</th>\n",
       "      <th>pitch_range</th>\n",
       "      <th>unique_pitches</th>\n",
       "      <th>token_sequence</th>\n",
       "    </tr>\n",
       "  </thead>\n",
       "  <tbody>\n",
       "    <tr>\n",
       "      <th>0</th>\n",
       "      <td>0</td>\n",
       "      <td>Alban Berg</td>\n",
       "      <td>Sonata Op. 1</td>\n",
       "      <td>train</td>\n",
       "      <td>2018</td>\n",
       "      <td>2018/MIDI-Unprocessed_Chamber3_MID--AUDIO_10_R...</td>\n",
       "      <td>698.661160</td>\n",
       "      <td>MIDI-Unprocessed_Chamber3_MID--AUDIO_10_R3_201...</td>\n",
       "      <td>540659</td>\n",
       "      <td>120.0</td>\n",
       "      <td>4197</td>\n",
       "      <td>65.149392</td>\n",
       "      <td>75</td>\n",
       "      <td>72</td>\n",
       "      <td>[803, 51, 316, 187, 314, 307, 62, 438, 55, 505...</td>\n",
       "    </tr>\n",
       "    <tr>\n",
       "      <th>1</th>\n",
       "      <td>1</td>\n",
       "      <td>Alban Berg</td>\n",
       "      <td>Sonata Op. 1</td>\n",
       "      <td>train</td>\n",
       "      <td>2008</td>\n",
       "      <td>2008/MIDI-Unprocessed_03_R2_2008_01-03_ORIG_MI...</td>\n",
       "      <td>759.518471</td>\n",
       "      <td>MIDI-Unprocessed_03_R2_2008_01-03_ORIG_MID--AU...</td>\n",
       "      <td>587304</td>\n",
       "      <td>120.0</td>\n",
       "      <td>4206</td>\n",
       "      <td>65.247741</td>\n",
       "      <td>75</td>\n",
       "      <td>74</td>\n",
       "      <td>[803, 51, 326, 185, 572, 282, 62, 478, 45, 511...</td>\n",
       "    </tr>\n",
       "    <tr>\n",
       "      <th>2</th>\n",
       "      <td>2</td>\n",
       "      <td>Alban Berg</td>\n",
       "      <td>Sonata Op. 1</td>\n",
       "      <td>train</td>\n",
       "      <td>2017</td>\n",
       "      <td>2017/MIDI-Unprocessed_066_PIANO066_MID--AUDIO-...</td>\n",
       "      <td>464.649433</td>\n",
       "      <td>MIDI-Unprocessed_066_PIANO066_MID--AUDIO-split...</td>\n",
       "      <td>447225</td>\n",
       "      <td>120.0</td>\n",
       "      <td>3326</td>\n",
       "      <td>65.996091</td>\n",
       "      <td>75</td>\n",
       "      <td>72</td>\n",
       "      <td>[371, 51, 326, 174, 528, 178, 62, 478, 45, 480...</td>\n",
       "    </tr>\n",
       "    <tr>\n",
       "      <th>3</th>\n",
       "      <td>3</td>\n",
       "      <td>Alexander Scriabin</td>\n",
       "      <td>24 Preludes Op. 11, No. 13-24</td>\n",
       "      <td>train</td>\n",
       "      <td>2004</td>\n",
       "      <td>2004/MIDI-Unprocessed_XP_21_R1_2004_01_ORIG_MI...</td>\n",
       "      <td>872.640588</td>\n",
       "      <td>MIDI-Unprocessed_XP_21_R1_2004_01_ORIG_MID--AU...</td>\n",
       "      <td>837875</td>\n",
       "      <td>120.0</td>\n",
       "      <td>6316</td>\n",
       "      <td>60.581856</td>\n",
       "      <td>81</td>\n",
       "      <td>78</td>\n",
       "      <td>[256, 175, 54, 511, 50, 569, 176, 42, 495, 186...</td>\n",
       "    </tr>\n",
       "    <tr>\n",
       "      <th>4</th>\n",
       "      <td>4</td>\n",
       "      <td>Alexander Scriabin</td>\n",
       "      <td>3 Etudes, Op. 65</td>\n",
       "      <td>validation</td>\n",
       "      <td>2006</td>\n",
       "      <td>2006/MIDI-Unprocessed_17_R1_2006_01-06_ORIG_MI...</td>\n",
       "      <td>397.857508</td>\n",
       "      <td>MIDI-Unprocessed_17_R1_2006_01-06_ORIG_MID--AU...</td>\n",
       "      <td>306880</td>\n",
       "      <td>120.0</td>\n",
       "      <td>4019</td>\n",
       "      <td>68.433192</td>\n",
       "      <td>83</td>\n",
       "      <td>82</td>\n",
       "      <td>[966, 356, 929, 334, 352, 179, 292, 182, 299, ...</td>\n",
       "    </tr>\n",
       "  </tbody>\n",
       "</table>\n",
       "</div>"
      ],
      "text/plain": [
       "   Unnamed: 0  canonical_composer                canonical_title       split  \\\n",
       "0           0          Alban Berg                   Sonata Op. 1       train   \n",
       "1           1          Alban Berg                   Sonata Op. 1       train   \n",
       "2           2          Alban Berg                   Sonata Op. 1       train   \n",
       "3           3  Alexander Scriabin  24 Preludes Op. 11, No. 13-24       train   \n",
       "4           4  Alexander Scriabin               3 Etudes, Op. 65  validation   \n",
       "\n",
       "   year                                      midi_filename    duration  \\\n",
       "0  2018  2018/MIDI-Unprocessed_Chamber3_MID--AUDIO_10_R...  698.661160   \n",
       "1  2008  2008/MIDI-Unprocessed_03_R2_2008_01-03_ORIG_MI...  759.518471   \n",
       "2  2017  2017/MIDI-Unprocessed_066_PIANO066_MID--AUDIO-...  464.649433   \n",
       "3  2004  2004/MIDI-Unprocessed_XP_21_R1_2004_01_ORIG_MI...  872.640588   \n",
       "4  2006  2006/MIDI-Unprocessed_17_R1_2006_01-06_ORIG_MI...  397.857508   \n",
       "\n",
       "                                            filename  duration_ticks  \\\n",
       "0  MIDI-Unprocessed_Chamber3_MID--AUDIO_10_R3_201...          540659   \n",
       "1  MIDI-Unprocessed_03_R2_2008_01-03_ORIG_MID--AU...          587304   \n",
       "2  MIDI-Unprocessed_066_PIANO066_MID--AUDIO-split...          447225   \n",
       "3  MIDI-Unprocessed_XP_21_R1_2004_01_ORIG_MID--AU...          837875   \n",
       "4  MIDI-Unprocessed_17_R1_2006_01-06_ORIG_MID--AU...          306880   \n",
       "\n",
       "   tempo_bpm  num_notes  avg_pitch  pitch_range  unique_pitches  \\\n",
       "0      120.0       4197  65.149392           75              72   \n",
       "1      120.0       4206  65.247741           75              74   \n",
       "2      120.0       3326  65.996091           75              72   \n",
       "3      120.0       6316  60.581856           81              78   \n",
       "4      120.0       4019  68.433192           83              82   \n",
       "\n",
       "                                      token_sequence  \n",
       "0  [803, 51, 316, 187, 314, 307, 62, 438, 55, 505...  \n",
       "1  [803, 51, 326, 185, 572, 282, 62, 478, 45, 511...  \n",
       "2  [371, 51, 326, 174, 528, 178, 62, 478, 45, 480...  \n",
       "3  [256, 175, 54, 511, 50, 569, 176, 42, 495, 186...  \n",
       "4  [966, 356, 929, 334, 352, 179, 292, 182, 299, ...  "
      ]
     },
     "execution_count": 8,
     "metadata": {},
     "output_type": "execute_result"
    }
   ],
   "source": [
    "df.head()"
   ]
  },
  {
   "cell_type": "code",
   "execution_count": 9,
   "id": "d79e9949",
   "metadata": {},
   "outputs": [],
   "source": [
    "new_tokens = df[\"token_sequence\"]"
   ]
  },
  {
   "cell_type": "code",
   "execution_count": 10,
   "id": "4885fb72",
   "metadata": {},
   "outputs": [],
   "source": [
    "old_tokens = pd.read_csv(\"midi_df.csv\")[\"token_sequence\"]"
   ]
  },
  {
   "cell_type": "code",
   "execution_count": 11,
   "id": "8eeeff18",
   "metadata": {},
   "outputs": [
    {
     "data": {
      "text/plain": [
       "0        7263\n",
       "1        7671\n",
       "2        5765\n",
       "3       10172\n",
       "4        5864\n",
       "        ...  \n",
       "1271     1732\n",
       "1272     1751\n",
       "1273    13622\n",
       "1274    13605\n",
       "1275     8607\n",
       "Name: token_sequence, Length: 1276, dtype: int64"
      ]
     },
     "execution_count": 11,
     "metadata": {},
     "output_type": "execute_result"
    }
   ],
   "source": [
    "new_tokens.apply(len)"
   ]
  },
  {
   "cell_type": "code",
   "execution_count": 12,
   "id": "2f164da3",
   "metadata": {},
   "outputs": [
    {
     "data": {
      "text/plain": [
       "0        72006\n",
       "1        71227\n",
       "2        57047\n",
       "3       108195\n",
       "4        67634\n",
       "         ...  \n",
       "1271     15800\n",
       "1272     21759\n",
       "1273    135367\n",
       "1274    135503\n",
       "1275     97200\n",
       "Name: token_sequence, Length: 1276, dtype: int64"
      ]
     },
     "execution_count": 12,
     "metadata": {},
     "output_type": "execute_result"
    }
   ],
   "source": [
    "old_tokens.apply(len)"
   ]
  },
  {
   "cell_type": "code",
   "execution_count": 15,
   "id": "2a49cdf1",
   "metadata": {},
   "outputs": [],
   "source": [
    "df = df[df.columns[1:]]"
   ]
  },
  {
   "cell_type": "code",
   "execution_count": null,
   "id": "18dca063",
   "metadata": {},
   "outputs": [],
   "source": [
    "# df.to_csv(\"midi_df_v2.csv\", index=False)"
   ]
  }
 ],
 "metadata": {
  "kernelspec": {
   "display_name": "ml-music",
   "language": "python",
   "name": "python3"
  },
  "language_info": {
   "codemirror_mode": {
    "name": "ipython",
    "version": 3
   },
   "file_extension": ".py",
   "mimetype": "text/x-python",
   "name": "python",
   "nbconvert_exporter": "python",
   "pygments_lexer": "ipython3",
   "version": "3.10.17"
  }
 },
 "nbformat": 4,
 "nbformat_minor": 5
}
